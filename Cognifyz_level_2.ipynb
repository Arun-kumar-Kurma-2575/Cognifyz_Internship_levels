{
 "cells": [
  {
   "cell_type": "code",
   "execution_count": null,
   "id": "dc0bcb03-8491-4bfa-adc5-4037d0938461",
   "metadata": {},
   "outputs": [],
   "source": []
  }
 ],
 "metadata": {
  "kernelspec": {
   "display_name": "",
   "name": ""
  },
  "language_info": {
   "name": ""
  }
 },
 "nbformat": 4,
 "nbformat_minor": 5
}
